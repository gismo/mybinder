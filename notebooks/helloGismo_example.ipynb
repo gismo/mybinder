{
 "cells": [
  {
   "cell_type": "markdown",
   "metadata": {},
   "source": [
    "[![G+Smo](https://gismo.github.io/gslogo-doxy.jpg)](https://github.com/gismo/gismo/wiki)\n",
    "\n",
    "**G+Smo - Geometry plus Simulation modules.**\n",
    "\n",
    "- GitHub repository: https://github.com/gismo/\n",
    "- Online documentation: https://gismo.github.io/\n",
    "\n",
    "##Tutorial: Hello G+Smo\n",
    "This tutorial introduces the basic concepts of the G+smo library\n"
   ]
  },
  {
   "metadata": {
    "trusted": true
   },
   "cell_type": "code",
   "source": [
    "#include \"gismo.h\"\n",
    "using namespace gismo;"
   ],
   "execution_count": 1,
   "outputs": []
  },
  {
   "cell_type": "markdown",
   "metadata": {},
   "source": [
    "## Streaming text messages\n",
    "\n",
    "G+Smo comes with pre-defined streams that should be used to stream text messages\n",
    "- `gsInfo` This stream is an alias for std::cout and should be preferred over it.\n",
    "- `gsWarn` This stream prints the word \"Warning\" before your message, and should be used to warn of any important events.\n",
    "- `gsDebug` The messages are prefixed by GISMO_DEBUG and appear in Debug/RelWithDebInfo but not in release mode (controlled by the macro NDEBUG).\n",
    "- `gsDebugVar(var)` Streams the variable var, and the line and file of the code which emitted the message. This macro is used for easy printing and inspecting the contents of a variable.\n",
    "Note that the end-of-line character \"\\n\" should be preferred over `std::endl`.\n"
   ]
  },
  {
  "metadata": {
    "trusted": true
   },
   "cell_type": "code",
   "source": [
    "gsInfo  <<  \"Hello G+Smo.\\n\";\n",
    "gsWarn  <<  \"Hello G+Smo.\\n\";\n",
    "gsDebug <<  \"Hello G+Smo.\\n\";"
   ],
   "execution_count": 1,
   "outputs": []
  },
  {
   "cell_type": "markdown",
   "metadata": {},
   "source": [
    "## Assertion macros\n",
    "\n",
    "G+Smo comes with pre-defined assertion macros that should be used\n",
    "- `GISMO_ASSERT(condition, \"Message if failed\")` This assertion macro is executed in Debug/RelWithDebInfo mode only.\n",
    "- `GISMO_ENSURE(condition, \"Message if failed\")` This assertion macro is executed in all modes.\n",
    "- `GISMO_ERROR(\"Message\")` This macro emits an runtime error exception (without check condition).\n"
   ]
  },
  {
  "metadata": {
    "trusted": true
   },
   "cell_type": "code",
   "source": [
    "GISMO_ENSURE(0==1, \"An assertion failed\");\n",
    "GISMO_ERROR(\"An error occured\");"
   ],
   "execution_count": 1,
   "outputs": []
  },
  {
   "cell_type": "markdown",
   "metadata": {},
   "source": [
    "## Arithmetic types\n",
    "\n",
    "G+Smo comes with pre-defined arithmetic types that should be preferred over using, e.g., `double` or `int` explicitly\n",
    "- `real_t` This type should be used for all real-valued data. It defaults to `double`.\n",
    "- `index_t` This is the number type used for all matrix and vector indices and sizes (eg. number of rows).\n",
    "- `size_t` This is the type used in the standard library, e.g., for the size of an `std::vector`.\n",
    "Note that `index_t` and `size_t` might be different types, therefore care should be taken when comparing their value.\n",
    "Many template classes (for instance matrices) have a default first argument which is in most cases `real_t`.\n"
   ]
  },
  {
  "metadata": {
    "trusted": true
   },
   "cell_type": "code",
   "source": [
    "real_t a = 2.0; // a real number, ie. double\n",
    "index_t b = 3; // an integer, ie. int\n",
    "GISMO_ASSERT( a*b == 6, \"This is an error, 2*3 should be 6.\");"
   ],
   "execution_count": 1,
   "outputs": []
  },
  {
   "cell_type": "markdown",
   "metadata": {},
   "source": [
    "## Command line arguments\n",
    "\n",
    "A handy class called `gsCmdLine` for adding command line options to your programs. Adding options to a program makes it more friendly to the users, while allowing you to execute many different scenarios without having to change the source code and re-compile the source file.\n",
    "\n",
    "Command-line arguments are useful to avoid re-compiling your code every time a small parameter is altered, as well as to make your program easily accessible by others. In G+Smo there is an easy way to add command-line arguments, which come automatically with a small help message and error checking.\n"
   ]
  },
  {
  "metadata": {
    "trusted": true
   },
   "cell_type": "code",
   "source": [
    "gsCmdLine cmd(\"Give me your command line arguments\");\n",
    "\n",
    "bool flag = 0;\n",
    "cmd.addSwitch(\"flag\", \"Look for switch argument\", flag);\n"
   ],
   "execution_count": 1,
   "outputs": []
  }
 ],
 "metadata": {
  "kernelspec": {
   "name":"xcpp11",
   "display_name":"C++11",
   "language":"C++11"},
   "language_info": {"codemirror_mode": "text/x-c++src",
   "file_extension": ".cpp",
   "mimetype": "text/x-c++src",
   "name": "c++",
   "version": "11",
   "argv": [
    "xcpp",
    "-f",
    "{connection_file}",
    "-lpthread",
    "-ldl",
    "-lutil",
    "-lrt",
    "-lm",
    "-std=c++11"
   ]
  }
 },
 "nbformat":4,
 "nbformat_minor":1
}
