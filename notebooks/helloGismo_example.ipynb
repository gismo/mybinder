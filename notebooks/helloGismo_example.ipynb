{
 "cells": [
  {
   "cell_type": "markdown",
   "metadata": {},
   "source": [
    "[![G+Smo](https://gismo.github.io/gslogo-doxy.jpg)](https://github.com/gismo/gismo/wiki)\n",
    "\n",
    "**G+Smo - Geometry plus Simulation modules.**\n",
    "\n",
    "- GitHub repository: https://github.com/gismo/\n",
    "- Online documentation: https://gismo.github.io/\n",
    "\n",
    "##Tutorial: Hello G+Smo\n",
    "This tutorial introduces the basic concepts of the G+smo library\n"
   ]
  },
  {
   "metadata": {
    "trusted": true
   },
   "cell_type": "code",
   "source": [
    "#include \"gismo.h\"\n",
    "using namespace gismo;"
   ],
   "execution_count": 1,
   "outputs": []
  },
  {
   "cell_type": "markdown",
   "metadata": {},
   "source": [
    "## Streaming text messages\n",
    "\n",
    "G+Smo comes with pre-defined streams that should be used to stream text messages\n",
    "- `gsInfo` This stream is an alias for std::cout and should be preferred over it.\n",
    "- `gsWarn` This stream prints the word \"Warning\" before your message, and should be used to warn of any important events.\n",
    "- `gsDebug` The messages are prefixed by GISMO_DEBUG and appear in Debug/RelWithDebInfo but not in release mode (controlled by the macro NDEBUG).\n",
    "- `gsDebugVar(var)` Streams the variable var, and the line and file of the code which emitted the message. This macro is used for easy printing and inspecting the contents of a variable.\n"
   ]
  },
  {
  "metadata": {
    "trusted": true
   },
   "cell_type": "code",
   "source": [
    "gsInfo  <<  \"Hello G+Smo.\" << std::endl;\n",
    "gsWarn  <<  \"Hello G+Smo.\" << std::endl;\n",
    "gsDebug <<  \"Hello G+Smo.\" << std::endl;\n"
   ],
   "execution_count": 1,
   "outputs": []
  },
  {
   "cell_type": "markdown",
   "metadata": {},
   "source": [
    "## Assertion macros\n",
    "\n",
    "G+Smo comes with pre-defined assertion macros\n",
    "- `GISMO_ASSERT(condition, \"Message if failed\")` This assertion macro is executed in Debug/RelWithDebInfo mode only.\n",
    "- `GISMO_ENSURE(condition, \"Message if failed\")` This assertion macro is executed in all modes.\n",
    "- `GISMO_ERROR(\"Message\")` This macro emits an runtime error exception (without check condition).\n"
   ]
  },
  {
  "metadata": {
    "trusted": true
   },
   "cell_type": "code",
   "source": [
    "GISMO_ENSURE(0==1, \"An assertion failed\");\n",
    "GISMO_ERROR(\"An error occured\");\n"
   ],
   "execution_count": 1,
   "outputs": []
  }
 ],
 "metadata": {
  "kernelspec": {
   "name":"xcpp11",
   "display_name":"C++11",
   "language":"C++11"},
   "language_info": {"codemirror_mode": "text/x-c++src",
   "file_extension": ".cpp",
   "mimetype": "text/x-c++src",
   "name": "c++",
   "version": "11",
   "argv": [
    "xcpp",
    "-f",
    "{connection_file}",
    "-lpthread",
    "-ldl",
    "-lutil",
    "-lrt",
    "-lm",
    "-std=c++11"
   ]
  }
 },
 "nbformat":4,
 "nbformat_minor":1
}
